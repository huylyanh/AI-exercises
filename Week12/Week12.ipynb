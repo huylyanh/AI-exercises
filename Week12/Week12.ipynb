{
 "cells": [
  {
   "cell_type": "code",
   "execution_count": 62,
   "metadata": {},
   "outputs": [],
   "source": [
    "import torch\n",
    "\n",
    "torch.manual_seed(2023)\n",
    "\n",
    "\n",
    "def activation_func(x, func='relu'):\n",
    "    #TODO Implement one of these following activation function: sigmoid, tanh, ReLU, leaky ReLU\n",
    "    epsilon = 0.01   # Only use this variable if you choose Leaky ReLU\n",
    "\n",
    "    if func == 'sigmoid':\n",
    "        # return torch.sigmoid(x)\n",
    "        return 1/(1 + torch.exp(-x))\n",
    "    elif func == 'tanh':\n",
    "        return torch.tanh(x)\n",
    "    elif func == 'relu':\n",
    "        return torch.relu(x)\n",
    "    elif func == 'leaky_relu':\n",
    "        return torch.where(x > 0, x, epsilon * x)\n",
    "    else:\n",
    "        raise ValueError(\"Invalid active function\")"
   ]
  },
  {
   "cell_type": "code",
   "execution_count": 63,
   "metadata": {},
   "outputs": [],
   "source": [
    "def softmax(x):\n",
    "    # TODO Implement softmax function here\n",
    "    exp_x = torch.exp(x - torch.max(x))\n",
    "    result = exp_x / exp_x.sum(dim=1)\n",
    "    return result"
   ]
  },
  {
   "cell_type": "code",
   "execution_count": 64,
   "metadata": {},
   "outputs": [],
   "source": [
    "# Define the size of each layer in the network\n",
    "num_input = 784  # Number of node in input layer (28x28)\n",
    "num_hidden_1 = 128  # Number of nodes in hidden layer 1\n",
    "num_hidden_2 = 256  # Number of nodes in hidden layer 2\n",
    "num_hidden_3 = 128  # Number of nodes in hidden layer 3\n",
    "num_classes = 10  # Number of nodes in output layer\n",
    "\n",
    "# Random input\n",
    "input_data = torch.randn((1, num_input))\n",
    "# Weights for inputs to hidden layer 1\n",
    "W1 = torch.randn(num_input, num_hidden_1)\n",
    "# Weights for hidden layer 1 to hidden layer 2\n",
    "W2 = torch.randn(num_hidden_1, num_hidden_2)\n",
    "# Weights for hidden layer 2 to hidden layer 3\n",
    "W3 = torch.randn(num_hidden_2, num_hidden_3)\n",
    "# Weights for hidden layer 3 to output layer\n",
    "W4 = torch.randn(num_hidden_3, num_classes)\n",
    "\n",
    "# and bias terms for hidden and output layers\n",
    "B1 = torch.randn((1, num_hidden_1))\n",
    "B2 = torch.randn((1, num_hidden_2))\n",
    "B3 = torch.randn((1, num_hidden_3))\n",
    "B4 = torch.randn((1, num_classes))"
   ]
  },
  {
   "cell_type": "code",
   "execution_count": 67,
   "metadata": {},
   "outputs": [
    {
     "name": "stdout",
     "output_type": "stream",
     "text": [
      "tensor([[0., 0., 0., 1., 0., 0., 0., 0., 0., 0.]])\n",
      "torch.Size([1, 10])\n",
      "tensor(1.)\n"
     ]
    }
   ],
   "source": [
    "#TODO Calculate forward pass of the network here. Result should have the shape of [1,10]\n",
    "# Dont forget to check if sum of result = 1.0\n",
    "\n",
    "hidden_layer_1 = activation_func(torch.matmul(input_data, W1) + B1, func='leaky_relu')\n",
    "hidden_layer_2 = activation_func(torch.matmul(hidden_layer_1, W2) + B2, func='leaky_relu')\n",
    "hidden_layer_3 = activation_func(torch.matmul(hidden_layer_2, W3) + B3, func='leaky_relu')\n",
    "output_layer = activation_func(torch.matmul(hidden_layer_3, W4) + B4, func='leaky_relu')\n",
    "\n",
    "result = softmax(output_layer)\n",
    "print(result)\n",
    "print(result.shape)\n",
    "print(result.sum())"
   ]
  }
 ],
 "metadata": {
  "kernelspec": {
   "display_name": "Python 3",
   "language": "python",
   "name": "python3"
  },
  "language_info": {
   "codemirror_mode": {
    "name": "ipython",
    "version": 3
   },
   "file_extension": ".py",
   "mimetype": "text/x-python",
   "name": "python",
   "nbconvert_exporter": "python",
   "pygments_lexer": "ipython3",
   "version": "3.12.5"
  }
 },
 "nbformat": 4,
 "nbformat_minor": 2
}
