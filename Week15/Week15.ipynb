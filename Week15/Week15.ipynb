{
 "cells": [
  {
   "cell_type": "code",
   "execution_count": null,
   "metadata": {},
   "outputs": [
    {
     "name": "stdout",
     "output_type": "stream",
     "text": [
      "torch.Size([1, 10])\n"
     ]
    }
   ],
   "source": [
    "import torch\n",
    "import torch.nn as nn\n",
    "import torch.nn.functional as F\n",
    "\n",
    "class LeNet(nn.Module):\n",
    "    def __init__(self):\n",
    "        super().__init__()\n",
    "        self.conv1 = nn.Conv2d(1, 6, kernel_size=5, padding=2) \n",
    "        self.conv2 = nn.Conv2d(6, 16, kernel_size=5, padding=0) \n",
    "\n",
    "        self.fc1 = nn.Linear(16 * 5 * 5, 120)  \n",
    "        self.fc2 = nn.Linear(120, 84)  \n",
    "        self.fc3 = nn.Linear(84, 10)  \n",
    "\n",
    "    def forward(self, x):\n",
    "        x = F.relu(self.conv1(x)) \n",
    "        x = F.avg_pool2d(x, kernel_size=2, stride=2) \n",
    "        x = F.relu(self.conv2(x)) \n",
    "        x = F.avg_pool2d(x, kernel_size=2, stride=2) \n",
    "        x= torch.flatten(x, 1)\n",
    "        x = F.relu(self.fc1(x)) \n",
    "        x = F.relu(self.fc2(x)) \n",
    "        x = self.fc3(x)\n",
    "        return x\n",
    "\n",
    "sample_data = torch.randn(1, 1, 28, 28)\n",
    "model = LeNet()\n",
    "output = model(sample_data)\n",
    "print(output.shape)     "
   ]
  },
  {
   "cell_type": "code",
   "execution_count": null,
   "metadata": {},
   "outputs": [
    {
     "name": "stdout",
     "output_type": "stream",
     "text": [
      "torch.Size([1, 1000])\n"
     ]
    }
   ],
   "source": [
    "import torch \n",
    "import torch.nn as nn\n",
    "\n",
    "class AlexNet(nn.Module):\n",
    "    def __init__(self, num_classes):\n",
    "        super().__init__()\n",
    "        self.features = nn.Sequential(\n",
    "            nn.Conv2d(3, 96, kernel_size=11, stride=4, padding=2),\n",
    "            nn.ReLU(inplace=True),\n",
    "            nn.MaxPool2d(kernel_size=3, stride=2),\n",
    "\n",
    "            nn.Conv2d(96, 256, kernel_size=5, padding=2),\n",
    "            nn.ReLU(inplace=True),\n",
    "            nn.MaxPool2d(kernel_size=3, stride=2),\n",
    "\n",
    "            nn.Conv2d(256, 384, kernel_size=3, padding=1),\n",
    "            nn.ReLU(inplace=True),\n",
    "\n",
    "            nn.Conv2d(384, 384, kernel_size=3, padding=1),\n",
    "            nn.ReLU(inplace=True),\n",
    "\n",
    "            nn.Conv2d(384, 256, kernel_size=3, padding=1),\n",
    "            nn.ReLU(inplace=True),\n",
    "            nn.MaxPool2d(kernel_size=3, stride=2),\n",
    "        )\n",
    "\n",
    "        self.classifier = nn.Sequential(\n",
    "            nn.Linear(6 * 6 * 256, 4096),\n",
    "            nn.ReLU(inplace=True),\n",
    "            nn.Dropout(p=0.5),\n",
    "\n",
    "            nn.Linear(4096, 4096),\n",
    "            nn.ReLU(inplace=True),\n",
    "            nn.Dropout(p=0.5),\n",
    "            nn.Linear(4096, num_classes)\n",
    "        )\n",
    "\n",
    "        # self.conv1 = nn.Conv2d(3, 96, kernel_size=11, stride=4, padding=2)\n",
    "        # self.conv2 = nn.Conv2d(96, 256, kernel_size=5, padding=2)\n",
    "        # self.conv3 = nn.Conv2d(256, 384, kernel_size=3, padding=1)\n",
    "        # self.conv4 = nn.Conv2d(384, 384, kernel_size=3, padding=1)\n",
    "        # self.conv5 = nn.Conv2d(384, 256, kernel_size=3, padding=1)\n",
    "\n",
    "        # self.pool = nn.MaxPool2d(kernel_size=3, stride=2)\n",
    "        # self.relu = nn.ReLU(inplace=True)\n",
    "        # self.dropout = nn.Dropout(p=0.5)\n",
    "\n",
    "        # self.fc1 = nn.Linear(6 * 6 * 256, 4096)\n",
    "        # self.fc2 = nn.Linear(4096, 4096)\n",
    "        # self.fc3 = nn.Linear(4096, num_classes)\n",
    "\n",
    "    def forward(self, x):\n",
    "        x = self.features(x)\n",
    "        x= torch.flatten(x, 1)\n",
    "        x = self.classifier(x)\n",
    "\n",
    "        # x = self.pool(self.relu(self.conv1(x)))\n",
    "        # x = self.pool(self.relu(self.conv2(x)))\n",
    "        # x = self.relu(self.conv3(x))\n",
    "        # x = self.relu(self.conv4(x))\n",
    "        # x = self.pool(self.relu(self.conv5(x)))\n",
    "        # x= torch.flatten(x, 1)\n",
    "        # x = self.dropout(self.relu(self.fc1(x)))\n",
    "        # x = self.dropout(self.relu(self.fc2(x)))\n",
    "        # x = self.fc3(x)\n",
    "        return x\n",
    "\n",
    "sample_data = torch.randn(1, 3, 224, 224)\n",
    "model = AlexNet(num_classes=1000)\n",
    "output = model(sample_data)\n",
    "print(output.shape)     "
   ]
  }
 ],
 "metadata": {
  "kernelspec": {
   "display_name": "myenv",
   "language": "python",
   "name": "python3"
  },
  "language_info": {
   "codemirror_mode": {
    "name": "ipython",
    "version": 3
   },
   "file_extension": ".py",
   "mimetype": "text/x-python",
   "name": "python",
   "nbconvert_exporter": "python",
   "pygments_lexer": "ipython3",
   "version": "3.12.5"
  }
 },
 "nbformat": 4,
 "nbformat_minor": 2
}
