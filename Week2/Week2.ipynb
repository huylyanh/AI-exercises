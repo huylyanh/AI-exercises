{
 "cells": [
  {
   "cell_type": "markdown",
   "id": "57dd8d9e",
   "metadata": {},
   "source": [
    "# Exercise 1"
   ]
  },
  {
   "cell_type": "code",
   "execution_count": 4,
   "id": "7b3bc33d",
   "metadata": {},
   "outputs": [
    {
     "name": "stdout",
     "output_type": "stream",
     "text": [
      "Reversed array: [37 36 35 34 33 32 31 30 29 28 27 26 25 24 23 22 21 20 19 18 17 16 15 14\n",
      " 13 12]\n"
     ]
    }
   ],
   "source": [
    "import numpy as np\n",
    "\n",
    "# Ex1: Write a NumPy program to reverse an array (first element becomes last).\n",
    "# Input: [12 13 14 15 16 17 18 19 20 21 22 23 24 25 26 27 28 29 30 31 32 33 34 35 36 37]\n",
    "\n",
    "x = np.array([12, 13, 14, 15, 16, 17, 18, 19, 20, 21, 22, 23, 24, 25, 26, 27, 28, 29, 30, 31, 32, 33, 34, 35, 36, 37])\n",
    "\n",
    "# Hàm numpy.flip() đảo ngược thứ tự các phần tử mảng theo trục đã chỉ định, giữ nguyên hình dạng của mảng.\n",
    "y = np.flip(x)\n",
    "            \n",
    "print(\"Reversed array:\", str(y))"
   ]
  },
  {
   "cell_type": "markdown",
   "id": "81480123",
   "metadata": {},
   "source": [
    "# Exercise 2 "
   ]
  },
  {
   "cell_type": "code",
   "execution_count": 8,
   "id": "539714a5",
   "metadata": {},
   "outputs": [
    {
     "name": "stdout",
     "output_type": "stream",
     "text": [
      "Array1: [ 0 10 20 40 60]\n",
      "Array2: [10 30 40]\n",
      "Elements of Array1 is present in Array2: [False  True False  True False]\n"
     ]
    }
   ],
   "source": [
    "# Ex2: Write a NumPy program to test whether each element of a 1-D array is also present in a second array\n",
    "# Input Array1: [ 0 10 20 40 60]\n",
    "#       Array2: [10, 30, 40]\n",
    "\n",
    "x = np.array([0, 10, 20, 40, 60])\n",
    "y = np.array([10, 30, 40])\n",
    "\n",
    "# The np.isin function checks if each element of ‘array1’ is present in ‘array2’. \n",
    "# It returns a boolean array of the same shape as ‘array1’, with True at positions where the element is present in ‘array2’ and False otherwise\n",
    "z = np.isin(x,y)\n",
    "print(\"Array1:\", x)\n",
    "print(\"Array2:\", y)\n",
    "print(\"Elements of Array1 is present in Array2:\", z)"
   ]
  },
  {
   "cell_type": "markdown",
   "id": "0376138e",
   "metadata": {},
   "source": [
    "# Exercise 3"
   ]
  },
  {
   "cell_type": "code",
   "execution_count": 9,
   "id": "2080da3c",
   "metadata": {},
   "outputs": [
    {
     "name": "stdout",
     "output_type": "stream",
     "text": [
      "Index of the maximum value: 7\n",
      "Index of the minimum value: 5\n"
     ]
    }
   ],
   "source": [
    "# Ex3: Write a NumPy program to find the indices of the maximum and minimum values along the given axis of an array\n",
    "# Input Array [1,6,4,8,9,-4,-2,11]\n",
    "\n",
    "x = np.array([1, 6, 4, 8, 9, -4, -2, 11])\n",
    "\n",
    "# The np.argmax function finds the index of the maximum value in the array x.\n",
    "print(\"Index of the maximum value:\", np.argmax(x))\n",
    "\n",
    "# The np.argmin function finds the index of the minimum value in the array x\n",
    "print(\"Index of the minimum value:\", np.argmin(x))\n"
   ]
  },
  {
   "cell_type": "markdown",
   "id": "b7b28d2b",
   "metadata": {},
   "source": [
    "# Exercise 4 "
   ]
  },
  {
   "cell_type": "code",
   "execution_count": 22,
   "id": "edc8dca6",
   "metadata": {},
   "outputs": [
    {
     "name": "stdout",
     "output_type": "stream",
     "text": [
      "the: 1671\n",
      "and: 872\n",
      "to: 734\n",
      "a: 649\n",
      "it: 541\n",
      "she: 540\n",
      "of: 519\n",
      "said: 467\n",
      "i: 401\n",
      "alice: 391\n",
      "in: 382\n",
      "you: 365\n",
      "was: 359\n",
      "that: 282\n",
      "as: 261\n",
      "her: 253\n",
      "at: 211\n",
      "with: 198\n",
      "on: 191\n",
      "all: 183\n",
      "had: 179\n",
      "but: 168\n",
      "so: 154\n",
      "for: 152\n",
      "be: 150\n",
      "not: 146\n",
      "very: 146\n",
      "this: 142\n",
      "what: 140\n",
      "little: 133\n",
      "they: 130\n",
      "he: 117\n",
      "out: 115\n",
      "its: 114\n",
      "one: 106\n",
      "down: 106\n",
      "is: 105\n",
      "up: 101\n",
      "his: 98\n",
      "about: 94\n",
      "if: 93\n",
      "then: 92\n",
      "no: 89\n",
      "like: 87\n",
      "were: 87\n",
      "them: 86\n",
      "would: 85\n",
      "know: 85\n",
      "again: 84\n",
      "herself: 83\n",
      "or: 82\n",
      "off: 82\n",
      "went: 81\n",
      "do: 80\n",
      "when: 79\n",
      "have: 79\n",
      "could: 78\n",
      "there: 77\n",
      "thought: 73\n",
      "into: 72\n",
      "queen: 72\n",
      "time: 70\n",
      "by: 68\n",
      "me: 68\n",
      "who: 66\n",
      "see: 66\n",
      "how: 64\n",
      "your: 63\n",
      "did: 61\n",
      "king: 61\n",
      "an: 60\n",
      "well: 60\n",
      "dont: 60\n",
      "now: 59\n",
      "mock: 59\n",
      "are: 58\n",
      "turtle: 58\n",
      "began: 58\n",
      "my: 58\n",
      "im: 58\n",
      "quite: 55\n",
      "hatter: 55\n",
      "gryphon: 55\n",
      "some: 54\n",
      "way: 53\n",
      "head: 52\n",
      "think: 52\n",
      "their: 52\n",
      "here: 51\n",
      "much: 51\n",
      "just: 51\n",
      "go: 51\n",
      "which: 50\n",
      "more: 49\n",
      "say: 49\n",
      "first: 49\n",
      "only: 49\n",
      "thing: 49\n",
      "voice: 47\n",
      "looked: 47\n"
     ]
    }
   ],
   "source": [
    "# Ex4: Read the entire file story.txt and write a program to print out top 100 words occur most\n",
    "# frequently and their corresponding appearance. You could ignore all\n",
    "# punction characters such as comma, dot, semicolon, ...\n",
    "# Sample output:\n",
    "# house: 453\n",
    "# dog: 440\n",
    "# people: 312\n",
    "# ...\n",
    "\n",
    "import string\n",
    "from collections import Counter\n",
    "\n",
    "file = open(\"story.txt\", \"r\")\n",
    "\n",
    "# Read the entire file\n",
    "content = file.read()\n",
    "\n",
    "# Convert the characters to lowercase\n",
    "content = content.lower() \n",
    "\n",
    "# Remove punctuation using str.translate and string.punctuation\n",
    "content = content.translate(str.maketrans('', '', string.punctuation))\n",
    "\n",
    "# Split the content into words\n",
    "words = content.split()\n",
    "\n",
    "# Count the frequency of each word using collections.Counter\n",
    "word_counts = Counter(words) \n",
    "\n",
    "# Get the top 100 most common words\n",
    "top_100_occur = word_counts.most_common(100) \n",
    "# print(top_100_occur) \n",
    "for word, count in top_100_occur:\n",
    "    print(f\"{word}: {count}\")\n"
   ]
  }
 ],
 "metadata": {
  "kernelspec": {
   "display_name": "Python 3",
   "language": "python",
   "name": "python3"
  },
  "language_info": {
   "codemirror_mode": {
    "name": "ipython",
    "version": 3
   },
   "file_extension": ".py",
   "mimetype": "text/x-python",
   "name": "python",
   "nbconvert_exporter": "python",
   "pygments_lexer": "ipython3",
   "version": "3.12.5"
  }
 },
 "nbformat": 4,
 "nbformat_minor": 5
}
