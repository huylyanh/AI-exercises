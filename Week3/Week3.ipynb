{
 "cells": [
  {
   "cell_type": "markdown",
   "id": "82d12dc0",
   "metadata": {},
   "source": [
    "# Import "
   ]
  },
  {
   "cell_type": "code",
   "execution_count": 10,
   "id": "43026d40",
   "metadata": {},
   "outputs": [],
   "source": [
    "import gensim.downloader as api\n",
    "import numpy as np"
   ]
  },
  {
   "cell_type": "code",
   "execution_count": 11,
   "id": "f0ca5623",
   "metadata": {},
   "outputs": [
    {
     "name": "stdout",
     "output_type": "stream",
     "text": [
      "[-1.5578   -0.99442   0.30093   0.055712  0.096052  0.29998   2.1864\n",
      "  0.38417  -1.0875   -0.63333  -0.73723   0.40719  -4.343     0.062952\n",
      " -1.08     -0.27538   0.32506  -0.31789  -0.19544   0.64269  -0.021329\n",
      " -0.32933  -0.76828  -0.054674 -0.41345 ]\n"
     ]
    }
   ],
   "source": [
    "# 25, 50, 100 or 200. Số càng lớn thì càng chính xác, nhưng chạy càng lâu các bạn nhé\n",
    "# Glove: Global Vectors for Word Representation (Mo hinh cua dai hoc Standford)\n",
    "model = api.load(\"glove-twitter-25\")\n",
    "word = \"beautiful\"\n",
    "print(model[word])"
   ]
  },
  {
   "cell_type": "markdown",
   "id": "1831d560",
   "metadata": {},
   "source": [
    "# Section 1 for word2vec"
   ]
  },
  {
   "cell_type": "code",
   "execution_count": 3,
   "id": "209b3dc4",
   "metadata": {},
   "outputs": [
    {
     "name": "stdout",
     "output_type": "stream",
     "text": [
      "1----------\n",
      "[('gorgeous', 0.933364748954773), ('lovely', 0.9279096722602844), ('amazing', 0.9218392968177795), ('love', 0.9173232913017273), ('wonderful', 0.9150214791297913), ('loving', 0.9093379974365234), ('dream', 0.9086582660675049), ('pretty', 0.9071912169456482), ('perfect', 0.9066720008850098), ('little', 0.906454861164093)]\n"
     ]
    }
   ],
   "source": [
    "print(\"1----------\")\n",
    "result = model.most_similar(word, topn=10)\n",
    "print(result)"
   ]
  },
  {
   "cell_type": "markdown",
   "id": "b2bb52cb",
   "metadata": {},
   "source": [
    "# Section 2 for word2vec"
   ]
  },
  {
   "cell_type": "code",
   "execution_count": 4,
   "id": "470049ec",
   "metadata": {},
   "outputs": [
    {
     "name": "stdout",
     "output_type": "stream",
     "text": [
      "2----------\n",
      "[('march', 0.9706878662109375), ('october', 0.9691615104675293), ('june', 0.9538876414299011), ('december', 0.9475950002670288), ('august', 0.9452325701713562), ('july', 0.9375306963920593), ('november', 0.9197096228599548), ('dec', 0.8917480707168579), ('monday', 0.8903121948242188), ('wednesday', 0.8874315619468689)]\n"
     ]
    }
   ],
   "source": [
    "print(\"2----------\")\n",
    "result = model.most_similar(positive=[\"january\", \"february\"], topn=10)\n",
    "print(result)"
   ]
  },
  {
   "cell_type": "markdown",
   "id": "e0f0dccf",
   "metadata": {},
   "source": [
    "# Section 3 for word2vec"
   ]
  },
  {
   "cell_type": "code",
   "execution_count": 6,
   "id": "fe3d7b10",
   "metadata": {},
   "outputs": [
    {
     "name": "stdout",
     "output_type": "stream",
     "text": [
      "3----------\n",
      "0.76541775\n"
     ]
    }
   ],
   "source": [
    "print(\"3----------\")\n",
    "result = model.similarity(\"man\", \"woman\")\n",
    "print(result)"
   ]
  },
  {
   "cell_type": "markdown",
   "id": "5b0882e6",
   "metadata": {},
   "source": [
    "# Section 4 for word2vec"
   ]
  },
  {
   "cell_type": "code",
   "execution_count": null,
   "id": "44e9abb9",
   "metadata": {},
   "outputs": [
    {
     "name": "stdout",
     "output_type": "stream",
     "text": [
      "4----------\n",
      "[('meets', 0.8841924071311951)]\n"
     ]
    }
   ],
   "source": [
    "print(\"4----------\")\n",
    "result = model.most_similar(positive=[\"woman\", \"king\"], negative=[\"man\"], topn=1)\n",
    "print(result)"
   ]
  },
  {
   "cell_type": "markdown",
   "id": "699ce02d",
   "metadata": {},
   "source": [
    "# Section 5 for word2vec"
   ]
  },
  {
   "cell_type": "code",
   "execution_count": 8,
   "id": "839db716",
   "metadata": {},
   "outputs": [
    {
     "name": "stdout",
     "output_type": "stream",
     "text": [
      "5----------\n",
      "[('york', 0.8029431104660034)]\n"
     ]
    }
   ],
   "source": [
    "print(\"5----------\")\n",
    "result = model.most_similar(positive=[\"berlin\", \"vietnam\"], negative=[\"hanoi\"], topn=1)\n",
    "print(result)"
   ]
  },
  {
   "cell_type": "markdown",
   "id": "56cb5216",
   "metadata": {},
   "source": [
    "# Section 6 for word2vec"
   ]
  },
  {
   "cell_type": "code",
   "execution_count": 9,
   "id": "3f7d3740",
   "metadata": {},
   "outputs": [
    {
     "name": "stdout",
     "output_type": "stream",
     "text": [
      "6----------\n",
      "0.6507986\n"
     ]
    }
   ],
   "source": [
    "print(\"6----------\")\n",
    "result = model.similarity(\"marriage\", \"happiness\")\n",
    "print(result)"
   ]
  },
  {
   "cell_type": "code",
   "execution_count": 14,
   "id": "68e2391b",
   "metadata": {},
   "outputs": [
    {
     "name": "stdout",
     "output_type": "stream",
     "text": [
      "0.8660948\n",
      "0.8660949\n"
     ]
    }
   ],
   "source": [
    "#TODO: Các bạn thử viết 2 cách khác nhau để tính cosine similarity\n",
    "# giữa 2 vector nhé. Kết quả giống với khi dùng model.similarity() là được\n",
    "# 1 cách là dùng numpy, 1 cách là không dùng numpy nhé\n",
    "\n",
    "# 1) Using numpy\n",
    "import numpy as np\n",
    "\n",
    "def calculate_cosine_similarity(v1, v2):\n",
    "    dot_product = np.dot(v1, v2)\n",
    "    magnitude_v1 = np.linalg.norm(v1) \n",
    "    magnitude_v2 = np.linalg.norm(v2) \n",
    "    return dot_product/ (magnitude_v1 * magnitude_v2)\n",
    "\n",
    "word1 = \"wonderful\"\n",
    "word2 = \"awesome\"\n",
    "v_word1 = model[word1]\n",
    "v_word2 = model[word2]\n",
    "\n",
    "print(calculate_cosine_similarity(v_word1,v_word2))\n",
    "print(model.similarity(word1, word2))"
   ]
  },
  {
   "cell_type": "code",
   "execution_count": 15,
   "id": "420330ba",
   "metadata": {},
   "outputs": [
    {
     "name": "stdout",
     "output_type": "stream",
     "text": [
      "0.8660948661365743\n",
      "0.8660949\n"
     ]
    }
   ],
   "source": [
    "# 2) Not using numpy\n",
    "import math\n",
    "\n",
    "def calculate_cosine_similarity(v1, v2):\n",
    "    dot_product = sum(x * y for x, y in zip(v1, v2))\n",
    "    magnitude_v1 = math.sqrt(sum(pow(x, 2) for x in v1))\n",
    "    magnitude_v2 = math.sqrt(sum(pow(x, 2) for x in v2))\n",
    "    return dot_product/(magnitude_v1 * magnitude_v2)\n",
    "\n",
    "print(calculate_cosine_similarity(v_word1,v_word2))\n",
    "print(model.similarity(word1, word2))\n",
    "\n",
    "    "
   ]
  }
 ],
 "metadata": {
  "kernelspec": {
   "display_name": "Python 3",
   "language": "python",
   "name": "python3"
  },
  "language_info": {
   "codemirror_mode": {
    "name": "ipython",
    "version": 3
   },
   "file_extension": ".py",
   "mimetype": "text/x-python",
   "name": "python",
   "nbconvert_exporter": "python",
   "pygments_lexer": "ipython3",
   "version": "3.12.5"
  }
 },
 "nbformat": 4,
 "nbformat_minor": 5
}
