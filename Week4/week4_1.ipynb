{
 "cells": [
  {
   "cell_type": "code",
   "execution_count": 60,
   "metadata": {},
   "outputs": [
    {
     "name": "stdout",
     "output_type": "stream",
     "text": [
      "educational_level\n",
      "Graduation     257\n",
      "PhD            114\n",
      "Master          81\n",
      "High School     40\n",
      "Basic            7\n",
      "Name: count, dtype: int64\n"
     ]
    }
   ],
   "source": [
    "# Task 1: Thống kê số lượng khách hàng theo học vấn (High school, master,...)\n",
    "import pandas as pd\n",
    "\n",
    "df = pd.read_csv(\"Week4_1_data.csv\")\n",
    "edu_counts = df['educational_level'].value_counts()\n",
    "print(edu_counts)"
   ]
  },
  {
   "cell_type": "code",
   "execution_count": 61,
   "metadata": {},
   "outputs": [
    {
     "name": "stdout",
     "output_type": "stream",
     "text": [
      "     customer_id  annual_income educational_level\n",
      "164     20201865       157243.0               PhD\n",
      "252     20201953       102692.0        Graduation\n",
      "203     20201904       102160.0               PhD\n",
      "124     20201825       101970.0        Graduation\n",
      "424     20202125        93027.0               PhD\n",
      "426     20202127        92910.0        Graduation\n",
      "140     20201841        92859.0            Master\n",
      "418     20202119        91065.0        Graduation\n",
      "116     20201817        90765.0        Graduation\n",
      "456     20202157        89572.0       High School\n",
      "109     20201810        89058.0            Master\n",
      "67      20201768        88194.0       High School\n",
      "120     20201821        88193.0            Master\n",
      "198     20201899        86718.0        Graduation\n",
      "407     20202108        86164.0               PhD\n",
      "142     20201843        86111.0        Graduation\n",
      "113     20201814        86037.0        Graduation\n",
      "102     20201803        85693.0        Graduation\n",
      "356     20202057        85503.0        Graduation\n",
      "195     20201896        85317.0        Graduation\n"
     ]
    }
   ],
   "source": [
    "# Task 2: In ra 20 khách hàng có thu nhập cá nhân (annual_income) cao nhất\n",
    "\n",
    "df['annual_income'] = pd.to_numeric(df['annual_income'])\n",
    "# top_20_annual_income = df.sort_values(by='annual_income', ascending=False).head(20)\n",
    "top_20_annual_income = df.nlargest(n=20, columns='annual_income')\n",
    "print(top_20_annual_income[['customer_id', 'annual_income', 'educational_level']])"
   ]
  },
  {
   "cell_type": "code",
   "execution_count": 62,
   "metadata": {},
   "outputs": [
    {
     "name": "stdout",
     "output_type": "stream",
     "text": [
      "     customer_id  year_of_birth  annual_income\n",
      "0       20201701           1982        58138.0\n",
      "2       20201703           1965        71613.0\n",
      "4       20201705           1981        58293.0\n",
      "5       20201706           1967        62000.0\n",
      "6       20201707           1971        55635.0\n",
      "..           ...            ...            ...\n",
      "486     20202187           1976        56290.0\n",
      "487     20202188           1974        60093.0\n",
      "493     20202194           1964        58308.0\n",
      "495     20202196           1962        59432.0\n",
      "496     20202197           1978        55563.0\n",
      "\n",
      "[206 rows x 3 columns]\n"
     ]
    }
   ],
   "source": [
    "# Task 3: In ra những khách hàng sinh sau năm 1960 và thu nhập cá nhân trên $50,000/năm\n",
    "filtered_df = df[(df['year_of_birth'] > 1960) & (df['annual_income'] > 50000)]\n",
    "print(filtered_df[['customer_id', 'year_of_birth', 'annual_income']])"
   ]
  },
  {
   "cell_type": "code",
   "execution_count": 63,
   "metadata": {},
   "outputs": [
    {
     "name": "stdout",
     "output_type": "stream",
     "text": [
      "     customer_id  year_of_birth  annual_income\n",
      "252     20201953           1997       102692.0\n",
      "203     20201904           1989       102160.0\n",
      "424     20202125           1967        93027.0\n",
      "140     20201841           1987        92859.0\n",
      "418     20202119           2000        91065.0\n",
      "116     20201817           2000        90765.0\n",
      "109     20201810           1993        89058.0\n",
      "67      20201768           1984        88194.0\n",
      "198     20201899           1984        86718.0\n",
      "407     20202108           1989        86164.0\n",
      "142     20201843           1989        86111.0\n",
      "113     20201814           1997        86037.0\n",
      "102     20201803           1986        85693.0\n",
      "195     20201896           1981        85317.0\n",
      "430     20202131           1975        84865.0\n",
      "347     20202048           1970        84835.0\n",
      "29      20201730           1965        84618.0\n",
      "176     20201877           1991        83837.0\n",
      "217     20201918           1985        83790.0\n",
      "389     20202090           1980        83664.0\n"
     ]
    }
   ],
   "source": [
    "# Task 4: Kết hợp điều kiện của Task 2 & 3\n",
    "top_20_customers = filtered_df.nlargest(n=20, columns='annual_income')\n",
    "print(top_20_customers[['customer_id', 'year_of_birth', 'annual_income']])"
   ]
  },
  {
   "cell_type": "code",
   "execution_count": 64,
   "metadata": {},
   "outputs": [
    {
     "name": "stdout",
     "output_type": "stream",
     "text": [
      "     customer_id marital_status  recency  online_purchases  store_purchases\n",
      "1       20201702        Married       38                 1                2\n",
      "2       20201703       Divorced       26                 8               10\n",
      "6       20201707       Divorced       34                 7                7\n",
      "7       20201708        Married       32                 4                4\n",
      "12      20201713       Divorced       82                 3                8\n",
      "..           ...            ...      ...               ...              ...\n",
      "488     20202189        Married       24                 1                3\n",
      "491     20202192       Divorced       99                 6                5\n",
      "494     20202195       Divorced       85                 9                6\n",
      "495     20202196       Divorced       88                 5               11\n",
      "496     20202197       Divorced       22                 2                3\n",
      "\n",
      "[212 rows x 5 columns]\n"
     ]
    }
   ],
   "source": [
    "# Task 5: In ra những khách hàng có tình trạng hôn nhân là đã kết hôn or đã ly hôn\n",
    "filtered_df = df[df['marital_status'].isin(['Married', 'Divorced'])]\n",
    "print(filtered_df[['customer_id', 'marital_status', 'recency', 'online_purchases', 'store_purchases']])"
   ]
  },
  {
   "cell_type": "code",
   "execution_count": 65,
   "metadata": {},
   "outputs": [
    {
     "name": "stdout",
     "output_type": "stream",
     "text": [
      "educational_level\n",
      "Basic          19514.571429\n",
      "Graduation     51607.827309\n",
      "High School    44154.717949\n",
      "Master         51191.700000\n",
      "PhD            55878.990991\n",
      "Name: annual_income, dtype: float64\n"
     ]
    }
   ],
   "source": [
    "# Task 6: Tính mức thu nhập trung bình theo trình độ học vấn\n",
    "avg_annual_income_by_edu = df.groupby('educational_level')['annual_income'].mean()\n",
    "print(avg_annual_income_by_edu)"
   ]
  },
  {
   "cell_type": "code",
   "execution_count": 66,
   "metadata": {},
   "outputs": [
    {
     "name": "stdout",
     "output_type": "stream",
     "text": [
      "educational_level  marital_status\n",
      "Basic              Divorced          20797.000000\n",
      "                   Relationship      16443.000000\n",
      "                   Single            24882.000000\n",
      "Graduation         Divorced          52448.104167\n",
      "                   Married           49598.723077\n",
      "                   Relationship      53291.142857\n",
      "                   Single            51719.431034\n",
      "                   Widow             48097.500000\n",
      "                   Widowed           52221.600000\n",
      "High School        Divorced          49483.333333\n",
      "                   Married           38747.533333\n",
      "                   Relationship      51574.692308\n",
      "                   Single            48451.800000\n",
      "                   Widow             28457.000000\n",
      "                   Widowed           25592.000000\n",
      "Master             Divorced          46979.583333\n",
      "                   Married           52810.526316\n",
      "                   Relationship      46005.789474\n",
      "                   Single            56847.142857\n",
      "                   Widow             51529.000000\n",
      "                   Widowed           51094.000000\n",
      "PhD                Divorced          56304.894737\n",
      "                   Married           53079.695652\n",
      "                   Relationship      58019.666667\n",
      "                   Single            54087.631579\n",
      "                   Widow             50520.000000\n",
      "                   Widowed           57535.105263\n",
      "Name: annual_income, dtype: float64\n"
     ]
    }
   ],
   "source": [
    "# Task 7: Tính mức thu nhập trung bình theo trình độ học vấn + tình trạng hôn nhân\n",
    "avg_annual_income_by_edu_mar = df.groupby(['educational_level', 'marital_status'])['annual_income'].mean()\n",
    "print(avg_annual_income_by_edu_mar)"
   ]
  },
  {
   "cell_type": "markdown",
   "metadata": {},
   "source": [
    "Task 8: Đưa ra các kết luận, đánh giá về các phân khúc khách hàng dựa vào kết quả của Task 1-7\n",
    "\n",
    "1) Trình độ học vấn và tình trạng hôn nhân là hai yếu tố quan trọng ảnh hưởng đến mức thu nhập và hành vi mua sắm của khách hàng\n",
    "\n",
    "2) Khách hàng có trình độ học vấn cao có mức thu nhập cao và có thể là nhóm khách hàng tiềm năng cho các sản phẩm và dịch vụ cao cấp.\n",
    "\n",
    "3) Khách hàng đã kết hôn hoặc đã ly hôn có nhu cầu mua sắm khác nhau và cần được tiếp cận bằng các chiến lược marketing phù hợp\n"
   ]
  }
 ],
 "metadata": {
  "kernelspec": {
   "display_name": "Python 3",
   "language": "python",
   "name": "python3"
  },
  "language_info": {
   "codemirror_mode": {
    "name": "ipython",
    "version": 3
   },
   "file_extension": ".py",
   "mimetype": "text/x-python",
   "name": "python",
   "nbconvert_exporter": "python",
   "pygments_lexer": "ipython3",
   "version": "3.12.5"
  }
 },
 "nbformat": 4,
 "nbformat_minor": 2
}
