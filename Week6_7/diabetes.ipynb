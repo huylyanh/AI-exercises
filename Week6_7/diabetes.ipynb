{
 "cells": [
  {
   "cell_type": "code",
   "execution_count": null,
   "metadata": {},
   "outputs": [
    {
     "name": "stdout",
     "output_type": "stream",
     "text": [
      "DiabeticClass\n",
      "Negative    200\n",
      "Positive    320\n",
      "dtype: int64\n",
      "DiabeticClass\n",
      "Positive    320\n",
      "Negative    200\n",
      "Name: count, dtype: int64\n"
     ]
    },
    {
     "name": "stderr",
     "output_type": "stream",
     "text": [
      "C:\\Users\\Ly Anh Huy\\AppData\\Local\\Temp\\ipykernel_24620\\3698255328.py:18: FutureWarning: Downcasting behavior in `replace` is deprecated and will be removed in a future version. To retain the old behavior, explicitly call `result.infer_objects(copy=False)`. To opt-in to the future behavior, set `pd.set_option('future.no_silent_downcasting', True)`\n",
      "  data = data.replace({'Yes': 1, 'No': 0})\n"
     ]
    }
   ],
   "source": [
    "import pandas as pd\n",
    "import matplotlib.pyplot as plt\n",
    "from ydata_profiling import ProfileReport\n",
    "\n",
    "data = pd.read_csv(\"diabetes_data.csv\")\n",
    "# print(data.dtypes)\n",
    "# print(data.info())\n",
    "\n",
    "# count_class = data.groupby('DiabeticClass').size()\n",
    "# print(count_class)\n",
    "\n",
    "# profile = ProfileReport(data, title=\"Diabetes Report\", explorative=True)\n",
    "# profile.to_file(\"report.html\")\n",
    "\n",
    "data = data.replace({'Yes': 1, 'No': 0})\n",
    "\n",
    "# conditions = [\n",
    "#     (data['Obesity'] == 'Yes' & data['DiabeticClass'] == 'Positive'),\n",
    "\n",
    "     \n",
    "# ]\n",
    "\n",
    "\n"
   ]
  }
 ],
 "metadata": {
  "kernelspec": {
   "display_name": "Python 3",
   "language": "python",
   "name": "python3"
  },
  "language_info": {
   "codemirror_mode": {
    "name": "ipython",
    "version": 3
   },
   "file_extension": ".py",
   "mimetype": "text/x-python",
   "name": "python",
   "nbconvert_exporter": "python",
   "pygments_lexer": "ipython3",
   "version": "3.12.5"
  }
 },
 "nbformat": 4,
 "nbformat_minor": 2
}
